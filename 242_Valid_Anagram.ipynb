{
  "nbformat": 4,
  "nbformat_minor": 0,
  "metadata": {
    "colab": {
      "provenance": [],
      "mount_file_id": "1NmrtDCR1ap6JTZCxI5zKig9gU3t-_-k0",
      "authorship_tag": "ABX9TyNG5cic/VurBvbmaSPeYwRC",
      "include_colab_link": true
    },
    "kernelspec": {
      "name": "python3",
      "display_name": "Python 3"
    },
    "language_info": {
      "name": "python"
    }
  },
  "cells": [
    {
      "cell_type": "markdown",
      "metadata": {
        "id": "view-in-github",
        "colab_type": "text"
      },
      "source": [
        "<a href=\"https://colab.research.google.com/github/RoshanKumar854/LeetCode/blob/main/242_Valid_Anagram.ipynb\" target=\"_parent\"><img src=\"https://colab.research.google.com/assets/colab-badge.svg\" alt=\"Open In Colab\"/></a>"
      ]
    },
    {
      "cell_type": "markdown",
      "source": [
        "#242.Valid Anagram"
      ],
      "metadata": {
        "id": "aACIUumWxTO_"
      }
    },
    {
      "cell_type": "code",
      "execution_count": 2,
      "metadata": {
        "id": "K9dAtkPcpNDk"
      },
      "outputs": [],
      "source": [
        "class solution:\n",
        "  def isAnagram(self, s: str, t: str) -> bool:\n",
        "    if len(s) != len(t):\n",
        "      return False\n",
        "    \n",
        "    countS, countT = {}, {}\n",
        "\n",
        "    for i in range(len(s)):\n",
        "      countS[s[i]] = 1 + countS.get(s[i], 0) \n",
        "      countT[t[i]] = 1 + countT.get(t[i], 0)\n",
        "    for c in countS:\n",
        "      if countS[c] != countT.get(c, 0):\n",
        "        return False\n",
        "\n",
        "    return True  "
      ]
    }
  ]
}